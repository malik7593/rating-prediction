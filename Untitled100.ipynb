{
 "cells": [
  {
   "cell_type": "code",
   "execution_count": 28,
   "metadata": {},
   "outputs": [],
   "source": [
    " #Importing Libraries\n",
    "import selenium\n",
    "import pandas as pd\n",
    "import time\n",
    "from bs4 import BeautifulSoup\n",
    "\n",
    "# Importing selenium webdriver \n",
    "from selenium import webdriver\n",
    "\n",
    "# Importing required Exceptions which needs to handled\n",
    "from selenium.common.exceptions import StaleElementReferenceException, NoSuchElementException\n",
    "\n",
    "#Importing requests\n",
    "import requests\n",
    "\n",
    "# importing regex\n",
    "import re"
   ]
  },
  {
   "cell_type": "code",
   "execution_count": 32,
   "metadata": {},
   "outputs": [
    {
     "name": "stdout",
     "output_type": "stream",
     "text": [
      "Enter the product you want to search : monitors\n"
     ]
    }
   ],
   "source": [
    "# Activating the chrome browser\n",
    "driver=webdriver.Chrome(r\"C:\\Users\\malik\\Downloads\\chromedriver_win32\\chromedriver.exe\") \n",
    "time.sleep(3)\n",
    "\n",
    "# Opening the homepage of Amazon.in\n",
    "url = \"https://www.flipkart.com/\"\n",
    "driver.get(url)\n",
    "\n",
    "time.sleep(2)\n",
    "# Asking the user to input the keywords he/she wants to search\n",
    "user_inp = input('Enter the product you want to search : ')"
   ]
  },
  {
   "cell_type": "code",
   "execution_count": 43,
   "metadata": {},
   "outputs": [],
   "source": [
    "search_bar = driver.find_element_by_xpath(\"/html/body/div[1]/div/div[1]/div[1]/div[2]/div[2]/form/div/div/input\")    # Locating searc_bar by id\n",
    "search_bar.clear()                                               # clearing search_bar\n",
    "search_bar.send_keys(user_inp)                                   # sending user input to search bar\n",
    "search_button = driver.find_element_by_xpath(\"/html/body/div[1]/div/div[1]/div[1]/div[2]/div[2]/form/div/button\")       # Locating search_button by xpath\n",
    "search_button.click()"
   ]
  },
  {
   "cell_type": "code",
   "execution_count": 44,
   "metadata": {},
   "outputs": [
    {
     "data": {
      "text/html": [
       "<div>\n",
       "<style scoped>\n",
       "    .dataframe tbody tr th:only-of-type {\n",
       "        vertical-align: middle;\n",
       "    }\n",
       "\n",
       "    .dataframe tbody tr th {\n",
       "        vertical-align: top;\n",
       "    }\n",
       "\n",
       "    .dataframe thead th {\n",
       "        text-align: right;\n",
       "    }\n",
       "</style>\n",
       "<table border=\"1\" class=\"dataframe\">\n",
       "  <thead>\n",
       "    <tr style=\"text-align: right;\">\n",
       "      <th></th>\n",
       "      <th>Brand</th>\n",
       "      <th>Rating</th>\n",
       "      <th>Other Details</th>\n",
       "    </tr>\n",
       "  </thead>\n",
       "  <tbody>\n",
       "    <tr>\n",
       "      <th>0</th>\n",
       "      <td>ViewSonic 31.5 inch 4K Ultra HD LED Backlit VA...</td>\n",
       "      <td>-</td>\n",
       "      <td>-</td>\n",
       "    </tr>\n",
       "    <tr>\n",
       "      <th>1</th>\n",
       "      <td>Aopen 23.8 inch Full HD Gaming Monitor (ACER V...</td>\n",
       "      <td>-</td>\n",
       "      <td>-</td>\n",
       "    </tr>\n",
       "    <tr>\n",
       "      <th>2</th>\n",
       "      <td>SAMSUNG 23.8 inch Curved Full HD LED Backlit V...</td>\n",
       "      <td>5</td>\n",
       "      <td>Great product at this price range</td>\n",
       "    </tr>\n",
       "    <tr>\n",
       "      <th>3</th>\n",
       "      <td>HP 21.5 inch Full HD LED Backlit IPS Panel Mon...</td>\n",
       "      <td>5</td>\n",
       "      <td>Terrific</td>\n",
       "    </tr>\n",
       "    <tr>\n",
       "      <th>4</th>\n",
       "      <td>DELL 21.5 inch Full HD Monitor (E2216HV)  (Res...</td>\n",
       "      <td>-</td>\n",
       "      <td>-</td>\n",
       "    </tr>\n",
       "  </tbody>\n",
       "</table>\n",
       "</div>"
      ],
      "text/plain": [
       "                                               Brand Rating  \\\n",
       "0  ViewSonic 31.5 inch 4K Ultra HD LED Backlit VA...      -   \n",
       "1  Aopen 23.8 inch Full HD Gaming Monitor (ACER V...      -   \n",
       "2  SAMSUNG 23.8 inch Curved Full HD LED Backlit V...      5   \n",
       "3  HP 21.5 inch Full HD LED Backlit IPS Panel Mon...      5   \n",
       "4  DELL 21.5 inch Full HD Monitor (E2216HV)  (Res...      -   \n",
       "\n",
       "                       Other Details  \n",
       "0                                  -  \n",
       "1                                  -  \n",
       "2  Great product at this price range  \n",
       "3                           Terrific  \n",
       "4                                  -  "
      ]
     },
     "execution_count": 44,
     "metadata": {},
     "output_type": "execute_result"
    }
   ],
   "source": [
    "# scrape all product urls\n",
    "product_urls = []\n",
    "start=0\n",
    "end=20\n",
    "for page in range(start,end):#for loop for scrapping 3 page\n",
    "    url=driver.find_elements_by_xpath('//a[@class=\"_1fQZEK\"]')       #scraping urls\n",
    "    for i in url:\n",
    "        product_urls.append(i.get_attribute(\"href\"))                        #appending the urls in product_urls list\n",
    "    nxt_button=driver.find_element_by_xpath('//a[@class=\"_1LKTO3\"]')     #scraping the list of buttons from the page\n",
    "    nxt_button.click()\n",
    "    time.sleep(2)\n",
    "\n",
    "#Make empty lists\n",
    "Brand = []   \n",
    "\n",
    "Rating = []\n",
    "\n",
    "Other_Details = []\n",
    "\n",
    "for url in product_urls:\n",
    "    driver.get(url)\n",
    "    time.sleep(2)\n",
    "    \n",
    "    # Extracting Brand from xpath\n",
    "    try:\n",
    "        brand = driver.find_element_by_xpath('//span[@class=\"B_NuCI\"]')      \n",
    "        Brand.append(brand.text)\n",
    "    except NoSuchElementException:\n",
    "        Brand.append('-')    \n",
    "\n",
    "\n",
    "    time.sleep(1)\n",
    "       \n",
    "    # Extracting Ratings from xpath    \n",
    "    try:\n",
    "        rating = driver.find_element_by_xpath('//div[@class=\"_3LWZlK _1BLPMq\"]')  \n",
    "        Rating.append(rating.text)\n",
    "    except NoSuchElementException:\n",
    "        Rating.append('-')\n",
    "\n",
    "\n",
    "    time.sleep(1)\n",
    "\n",
    "    # Extracting Other Details from xpath    \n",
    "    try:\n",
    "        othr_dtls= driver.find_element_by_xpath('//p[@class=\"_2-N8zT\"]')  \n",
    "        Other_Details.append(othr_dtls.text)\n",
    "    except NoSuchElementException:\n",
    "        Other_Details.append('-')\n",
    "\n",
    "time.sleep(1)    \n",
    "# Make dataframe\n",
    "prod_df = pd.DataFrame({'Brand':Brand,'Rating':Rating,\n",
    "                        'Other Details':Other_Details})\n",
    "prod_df.head(5)   "
   ]
  },
  {
   "cell_type": "code",
   "execution_count": 45,
   "metadata": {},
   "outputs": [
    {
     "data": {
      "text/plain": [
       "480"
      ]
     },
     "execution_count": 45,
     "metadata": {},
     "output_type": "execute_result"
    }
   ],
   "source": [
    "len(prod_df)"
   ]
  },
  {
   "cell_type": "code",
   "execution_count": 46,
   "metadata": {},
   "outputs": [],
   "source": [
    "prod_df.to_csv(\"review12.csv\")"
   ]
  },
  {
   "cell_type": "code",
   "execution_count": null,
   "metadata": {},
   "outputs": [],
   "source": []
  }
 ],
 "metadata": {
  "kernelspec": {
   "display_name": "Python 3",
   "language": "python",
   "name": "python3"
  },
  "language_info": {
   "codemirror_mode": {
    "name": "ipython",
    "version": 3
   },
   "file_extension": ".py",
   "mimetype": "text/x-python",
   "name": "python",
   "nbconvert_exporter": "python",
   "pygments_lexer": "ipython3",
   "version": "3.8.5"
  }
 },
 "nbformat": 4,
 "nbformat_minor": 4
}
